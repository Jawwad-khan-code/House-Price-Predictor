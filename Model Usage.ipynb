{
 "cells": [
  {
   "cell_type": "code",
   "execution_count": 1,
   "id": "8cbd51d3",
   "metadata": {},
   "outputs": [],
   "source": [
    "import joblib"
   ]
  },
  {
   "cell_type": "code",
   "execution_count": 2,
   "id": "5537f76c",
   "metadata": {},
   "outputs": [],
   "source": [
    "clf=joblib.load(\"Dragon.joblib\")"
   ]
  },
  {
   "cell_type": "code",
   "execution_count": 3,
   "id": "f97013b4",
   "metadata": {},
   "outputs": [],
   "source": [
    "import numpy as np"
   ]
  },
  {
   "cell_type": "code",
   "execution_count": 6,
   "id": "90fa5635",
   "metadata": {},
   "outputs": [],
   "source": [
    "features=np.array([0.02498,0.0 ,1.89 ,0 ,0.518 ,6.540 ,59.7 ,6.2669 ,1 ,422 ,15.9 ,389.96 ,8.65])"
   ]
  },
  {
   "cell_type": "code",
   "execution_count": 7,
   "id": "fc7a3262",
   "metadata": {},
   "outputs": [
    {
     "data": {
      "text/plain": [
       "array([2.4980e-02, 0.0000e+00, 1.8900e+00, 0.0000e+00, 5.1800e-01,\n",
       "       6.5400e+00, 5.9700e+01, 6.2669e+00, 1.0000e+00, 4.2200e+02,\n",
       "       1.5900e+01, 3.8996e+02, 8.6500e+00])"
      ]
     },
     "execution_count": 7,
     "metadata": {},
     "output_type": "execute_result"
    }
   ],
   "source": [
    "features"
   ]
  },
  {
   "cell_type": "code",
   "execution_count": 8,
   "id": "8ee1afd6",
   "metadata": {},
   "outputs": [
    {
     "data": {
      "text/plain": [
       "array([24.372])"
      ]
     },
     "execution_count": 8,
     "metadata": {},
     "output_type": "execute_result"
    }
   ],
   "source": [
    "clf.predict([features])"
   ]
  },
  {
   "cell_type": "code",
   "execution_count": null,
   "id": "55bbad9e",
   "metadata": {},
   "outputs": [],
   "source": []
  }
 ],
 "metadata": {
  "kernelspec": {
   "display_name": "Python 3 (ipykernel)",
   "language": "python",
   "name": "python3"
  },
  "language_info": {
   "codemirror_mode": {
    "name": "ipython",
    "version": 3
   },
   "file_extension": ".py",
   "mimetype": "text/x-python",
   "name": "python",
   "nbconvert_exporter": "python",
   "pygments_lexer": "ipython3",
   "version": "3.8.8"
  }
 },
 "nbformat": 4,
 "nbformat_minor": 5
}
